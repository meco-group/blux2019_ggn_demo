{
 "cells": [
  {
   "cell_type": "markdown",
   "metadata": {},
   "source": [
    "This is an online notebook set up with CasADi\n",
    "\n",
    "After clicking the code block below,\n",
    "press __Shift-Enter__ to execute it"
   ]
  },
  {
   "cell_type": "markdown",
   "metadata": {},
   "source": [
    "This example compares GGN and SCP to solve an optimization problem:\n",
    "\n",
    "\\begin{equation}\n",
    "  \\begin{array}{cl}\n",
    "    \\underset{w}{\\textrm{minimize}} & \\phi(w) \\\\\n",
    "    \\textrm{subject to} &  G(w)=0 \\\\\n",
    "  \\end{array}\n",
    "\\end{equation}\n",
    "\n",
    "  * w in $R^{n_w}$\n",
    "  * w contains both parameters-to-be-estimated and a state trajectory\n",
    "  * G: gap-closing constraints from multiple-shooting with a system S\n",
    "  * S: a nonlinear discrete system map (state x parameter)->(state)\n",
    "  * y: a given matrix of (noisy) state measurements\n",
    "  * $\\phi$: a convex map: Huber-like\n",
    "\\begin{equation}\n",
    "     \\phi(w) = \\sum_{i=1}^N \\sqrt{\\sigma^2+E_i(w)^2}\n",
    "\\end{equation}\n",
    "\n",
    "See: benelux.casadi.org\n"
   ]
  },
  {
   "cell_type": "code",
   "execution_count": 10,
   "metadata": {},
   "outputs": [
    {
     "data": {
      "image/png": "[encoded data removed]",
      "text/plain": [
       "<IPython.core.display.Image object>"
      ]
     },
     "metadata": {},
     "output_type": "display_data"
    }
   ],
   "source": [
    "close all\n",
    "clc\n",
    "import casadi.*\n",
    "\n",
    "load('y.mat');\n",
    "figure\n",
    "hold on\n",
    "plot(y(1,:),'ro')\n",
    "plot(y(2,:),'bo')\n",
    "hold off"
   ]
  },
  {
   "cell_type": "markdown",
   "metadata": {},
   "source": [
    "## Set-up a nonlinear fitting problem"
   ]
  },
  {
   "cell_type": "code",
   "execution_count": 12,
   "metadata": {},
   "outputs": [
    {
     "name": "stdout",
     "output_type": "stream",
     "text": [
      "S =\n",
      "\n",
      "S:(x[2],p[4])->(x_next[2]) MXFunction\n",
      "\n"
     ]
    }
   ],
   "source": [
    "Ns    = 100; % Number of simulation steps (= number of observations)\n",
    "sigma = 0.1; % Huber tuning term\n",
    "\n",
    "% Unknown parameters of dynamic system\n",
    "alpha = MX.sym('alpha');\n",
    "beta  = MX.sym('beta');\n",
    "gamma = MX.sym('gamma');\n",
    "delta = MX.sym('delta');\n",
    "p     = [alpha;beta;gamma;delta]; % p in R^4\n",
    "\n",
    "% Discrete-time nonlinear dynamic system (predator-prey)\n",
    "x      = MX.sym('x',2); % symbolic state, in R^2\n",
    "x_next = [(x(1)-alpha*x(1)*x(2))/(1+gamma*x(1));\n",
    "          (x(2)+ beta*x(1)*x(2))/(1+delta*x(2))];\n",
    "\n",
    "% System dynamics: R^2 (state) x R^4 (parameter) -> R^2 (state at next)\n",
    "S = Function('S',{x,p},{x_next},{'x','p'},{'x_next'})"
   ]
  },
  {
   "cell_type": "code",
   "execution_count": 13,
   "metadata": {},
   "outputs": [
    {
     "name": "stdout",
     "output_type": "stream",
     "text": [
      "ans =\n",
      "\n",
      "     2   100\n",
      "\n",
      "ans =\n",
      "\n",
      "     2   100\n",
      "\n",
      "G =\n",
      "\n",
      "G:(i0[206])->(o0[200]) MXFunction\n",
      "\n"
     ]
    },
    {
     "data": {
      "image/png": "[encoded data removed]",
      "text/plain": [
       "<IPython.core.display.Image object>"
      ]
     },
     "metadata": {},
     "output_type": "display_data"
    }
   ],
   "source": [
    "X = MX.sym('X',2,Ns+1); % Symbolic state trajectory, in R^(2 x Ns+1)\n",
    "\n",
    "% Decision variable structure w in R^nw : nw = 4+2(Ns+1)\n",
    "w = [p;X(:)];\n",
    "\n",
    "size(y) % Noisy state observations R^(2 x Ns)\n",
    "% Error between state and observation: R^nw -> R^(2Ns)\n",
    "err = X(:,2:Ns+1)-y;\n",
    "E = Function('E',{w},{ err(:) });\n",
    "\n",
    "% Express multiple shooting gaps\n",
    "k = 1:Ns;\n",
    "mshooting_gaps = X(:,k+1)-S(X(:,k),p);\n",
    "size(mshooting_gaps) % Gaps are in R^(2 x Ns)\n",
    "\n",
    "% Constraint: R^nw -> R^(2Ns)\n",
    "G = Function('G',{w},{ mshooting_gaps(:) })\n",
    "\n",
    "figure\n",
    "spy(jacobian(G(w),w))\n",
    "title('Constraint Jacobian: R^{nw} -> R^{2Ns x nw}')\n",
    "JG = Function('JG',{w},{ jacobian(G(w),w) });"
   ]
  },
  {
   "cell_type": "markdown",
   "metadata": {},
   "source": [
    "Q1: Explain the above-displayed structure of $\\frac{\\partial G(w)}{\\partial w}$"
   ]
  },
  {
   "cell_type": "markdown",
   "metadata": {},
   "source": [
    "## Initial w"
   ]
  },
  {
   "cell_type": "code",
   "execution_count": 14,
   "metadata": {},
   "outputs": [],
   "source": [
    "% We have a vague idea of the values of p\n",
    "pinit = [0.03;0.25;0.35;0.05];\n",
    "\n",
    "% We can initialize with the measurements y!\n",
    "winit = [pinit;y(:,1);y(:)];"
   ]
  },
  {
   "cell_type": "markdown",
   "metadata": {},
   "source": [
    "## SCP approach"
   ]
  },
  {
   "cell_type": "code",
   "execution_count": 15,
   "metadata": {},
   "outputs": [
    {
     "name": "stdout",
     "output_type": "stream",
     "text": [
      "SCP it 1: ||dw|| 2.247828e+00\n",
      "SCP it 2: ||dw|| 1.669549e+00\n",
      "SCP it 3: ||dw|| 7.380279e-01\n",
      "SCP it 4: ||dw|| 4.684862e-01\n",
      "SCP it 5: ||dw|| 5.741071e-02\n",
      "SCP it 6: ||dw|| 1.530956e-03\n",
      "SCP it 7: ||dw|| 8.165646e-05\n",
      "SCP it 8: ||dw|| 6.274272e-06\n",
      "SCP it 9: ||dw|| 5.099303e-07\n",
      "SCP it 10: ||dw|| 4.364257e-08\n"
     ]
    }
   ],
   "source": [
    "% Jacobian of error Function: R^nw -> R^(2Ns x nw)\n",
    "JE = Function('JE',{w},{ jacobian(E(w),w) });\n",
    "\n",
    "wk = winit;\n",
    "for k=1:10\n",
    "    opti = Opti('conic');\n",
    "\n",
    "    % Decision variables of conic problem\n",
    "    dw = opti.variable(numel(w));\n",
    "    s  = opti.variable(2*Ns,1);   % Slack\n",
    "    \n",
    "    % Objective: sum of slacks\n",
    "    opti.minimize(sum(s));\n",
    "    \n",
    "    % Second-order cone constraints,\n",
    "    %  arising from objective   sum_i sqrt(sigma^2+E_i(w)^2)\n",
    "    E_lin = E(wk)+JE(wk)*dw;\n",
    "    for i=1:2*Ns\n",
    "        opti.subject_to( norm([sigma;E_lin(i)]) <= s(i) );\n",
    "    end\n",
    "\n",
    "    % Linear equality constraints (cfr. gap-closing multiple shooting)\n",
    "    G_lin = G(wk)+JG(wk)*dw;\n",
    "    opti.subject_to( G_lin==0 );\n",
    "\n",
    "    % Choose a conic solver\n",
    "    options = struct;\n",
    "    options.superscs.max_iters = 1e5;\n",
    "    options.superscs.verbose   = 0;\n",
    "    options.superscs.eps       = 1e-9;\n",
    "    opti.solver('superscs',options);\n",
    "    \n",
    "    % Solve\n",
    "    sol = opti.solve();\n",
    "    dw  = sol.value(dw);\n",
    "    \n",
    "    % Take a full step\n",
    "    wk = wk+dw;\n",
    "    \n",
    "    fprintf('SCP it %d: ||dw|| %e\\n',k, norm(dw));\n",
    "end\n",
    "\n",
    "p_opt_SCP = wk(1:4);"
   ]
  },
  {
   "cell_type": "markdown",
   "metadata": {},
   "source": [
    "## GGN approach"
   ]
  },
  {
   "cell_type": "code",
   "execution_count": 16,
   "metadata": {},
   "outputs": [
    {
     "data": {
      "image/png": "[encoded data removed]",
      "text/plain": [
       "<IPython.core.display.Image object>"
      ]
     },
     "metadata": {},
     "output_type": "display_data"
    }
   ],
   "source": [
    "% Convex map: R^nw -> R\n",
    "phi  = Function('phi',{w},{ sum(sqrt(sigma^2+E(w).^2))/(2*Ns) });\n",
    "\n",
    "% Jacobian of phi: R^nw -> R^(1 x nw)\n",
    "Jphi = Function('Jphi',{w},{ jacobian(phi(w),w) });\n",
    "\n",
    "figure\n",
    "spy(hessian(phi(w),w))\n",
    "title('Hessian of phi: R^{nw} -> S^{nw x nw}')\n",
    "Hphi = Function('Hphi',{w},{ hessian(phi(w),w) });"
   ]
  },
  {
   "cell_type": "markdown",
   "metadata": {},
   "source": [
    "Q2: Explain the above-displayed structure of $\\frac{\\partial^2 \\phi(w)}{\\partial w^2}$.\n",
    "\n",
    "Q3: Fill in the objective function to create a GGN method."
   ]
  },
  {
   "cell_type": "code",
   "execution_count": 17,
   "metadata": {},
   "outputs": [
    {
     "name": "stdout",
     "output_type": "stream",
     "text": [
      "error: Fill in the gap here\n"
     ]
    }
   ],
   "source": [
    "wk = winit;\n",
    "for k=1:10\n",
    "    opti = Opti('conic');\n",
    "\n",
    "    % Decision variables of quadratic problem\n",
    "    dw = opti.variable(numel(w));\n",
    "\n",
    "    error('Fill in the gap here');\n",
    "    %opti.minimize(...);\n",
    "\n",
    "    % Linear equality constraints (cfr. multiple shooting)\n",
    "    G_lin = G(wk)+JG(wk)*dw;\n",
    "    opti.subject_to( G_lin==0 );\n",
    "\n",
    "    % Choose a QP solver\n",
    "    options = struct;\n",
    "    options.print_iter   = false;\n",
    "    options.print_header = false;\n",
    "    opti.solver('qrqp',options);\n",
    "    \n",
    "    % Solve\n",
    "    sol = opti.solve();\n",
    "    dw  = sol.value(dw);\n",
    "    \n",
    "    % Take a full step\n",
    "    wk = wk+dw;\n",
    "    \n",
    "    fprintf('GGN it %d: ||dw|| %e\\n',k, norm(dw));\n",
    "end\n",
    "\n",
    "p_opt_GGN = wk(1:4);"
   ]
  },
  {
   "cell_type": "markdown",
   "metadata": {},
   "source": [
    "## Comparison"
   ]
  },
  {
   "cell_type": "code",
   "execution_count": 18,
   "metadata": {},
   "outputs": [
    {
     "name": "stdout",
     "output_type": "stream",
     "text": [
      "Difference between p_opt_GGN and p_opt_SCP\n",
      "ans =\n",
      "\n",
      "   0.0093066\n",
      "   0.1466655\n",
      "   0.3492020\n",
      "   0.0281250\n",
      "\n"
     ]
    }
   ],
   "source": [
    "disp('Difference between p_opt_GGN and p_opt_SCP')\n",
    "p_opt_GGN-p_opt_SCP"
   ]
  },
  {
   "cell_type": "markdown",
   "metadata": {},
   "source": [
    "## Plotting"
   ]
  },
  {
   "cell_type": "code",
   "execution_count": 8,
   "metadata": {},
   "outputs": [
    {
     "data": {
      "image/png": "[encoded data removed]",
      "text/plain": [
       "<IPython.core.display.Image object>"
      ]
     },
     "metadata": {},
     "output_type": "display_data"
    }
   ],
   "source": [
    "figure\n",
    "hold on\n",
    "Sim = S.mapaccum(100);\n",
    "plot(y(1,:),'ro')\n",
    "plot(y(2,:),'bo')\n",
    "sim = full(Sim([1;1],p_opt_GGN)); \n",
    "plot(sim(1,:),'r','linewidth',3);\n",
    "plot(sim(2,:),'b','linewidth',3);"
   ]
  },
  {
   "cell_type": "code",
   "execution_count": null,
   "metadata": {},
   "outputs": [],
   "source": []
  }
 ],
 "metadata": {
  "kernelspec": {
   "display_name": "Octave",
   "language": "octave",
   "name": "octave"
  },
  "language_info": {
   "file_extension": ".m",
   "help_links": [
    {
     "text": "GNU Octave",
     "url": "https://www.gnu.org/software/octave/support.html"
    },
    {
     "text": "Octave Kernel",
     "url": "https://github.com/Calysto/octave_kernel"
    },
    {
     "text": "MetaKernel Magics",
     "url": "https://github.com/calysto/metakernel/blob/master/metakernel/magics/README.md"
    }
   ],
   "mimetype": "text/x-octave",
   "name": "octave",
   "version": "4.2.2"
  }
 },
 "nbformat": 4,
 "nbformat_minor": 2
}
