{
 "cells": [
  {
   "cell_type": "markdown",
   "metadata": {},
   "source": [
    "This is an online notebook set up with CasADi\n",
    "\n",
    "After clicking the code block below,\n",
    "press Shift-Enter to execute it"
   ]
  },
  {
   "cell_type": "code",
   "execution_count": null,
   "metadata": {},
   "outputs": [],
   "source": [
    "import casadi.*\n",
    "opti = Opti();\n",
    "\n",
    "w = opti.variable();\n",
    "f = Function('f',{w},{sin(w)^4 + (exp(w)-2)^2});\n",
    "\n",
    "opti.minimize(f(w));\n",
    "\n",
    "opti.solver('ipopt');\n",
    "sol=opti.solve();"
   ]
  },
  {
   "cell_type": "code",
   "execution_count": null,
   "metadata": {},
   "outputs": [],
   "source": [
    "wstar=sol.value(w)\n",
    "fstar=sol.value(f(w))\n",
    "sol.value(gradient(f(w),w))\n",
    "\n",
    "ws=[-3:0.01:2];\n",
    "plot(ws,full(f(ws))); hold on; \n",
    "plot(wstar, fstar,'*r'); hold off;"
   ]
  },
  {
   "cell_type": "markdown",
   "metadata": {},
   "source": [
    "\\begin{equation}\n",
    "  \\begin{array}{cl}\n",
    "    \\underset{x_1,\\ldots x_{N+1},u_1,\\ldots u_N}{\\textrm{minimize}} & \\sum_{k=1}^{N+1} x_k^T x_k + \\sum_{k=1}^{N} u_k^T u_k \\\\\n",
    "    \\textrm{subject to} &  x_{k+1} = F(x_k,u_k) \\\\\n",
    "     & -1 \\le u \\le 1 \\\\\n",
    "     & x_1 = p\n",
    "  \\end{array}\n",
    "\\end{equation}"
   ]
  },
  {
   "cell_type": "code",
   "execution_count": null,
   "metadata": {},
   "outputs": [],
   "source": [
    "N = 20;\n",
    "\n",
    "F = @(x,u) [(1-x(2)^2)*x(1) - x(2) + u; x(1)];\n",
    "\n",
    "opti = casadi.Opti();\n",
    "\n",
    "x = opti.variable(2,N+1); % Decision variables for state trajetcory\n",
    "u = opti.variable(1,N);   % Decision variables for control trajectory\n",
    "\n",
    "opti.minimize(sumsqr(x)+sumsqr(u)); % Sum-of-squares objective\n",
    "\n",
    "for k=1:N\n",
    "  opti.subject_to(x(:,k+1)==F(x(:,k),u(:,k)));\n",
    "end\n",
    "opti.subject_to(-1<=u<=1);           % Bounds on control\n",
    "opti.subject_to(x(:,1)==[0;1]);      % Initial condition\n",
    "\n",
    "opti.solver('ipopt');\n",
    "sol = opti.solve();"
   ]
  },
  {
   "cell_type": "code",
   "execution_count": null,
   "metadata": {},
   "outputs": [],
   "source": [
    "spy(jacobian(opti.g,opti.x))"
   ]
  },
  {
   "cell_type": "code",
   "execution_count": null,
   "metadata": {},
   "outputs": [],
   "source": []
  }
 ],
 "metadata": {
  "kernelspec": {
   "display_name": "Octave",
   "language": "octave",
   "name": "octave"
  },
  "language_info": {
   "file_extension": ".m",
   "help_links": [
    {
     "text": "GNU Octave",
     "url": "https://www.gnu.org/software/octave/support.html"
    },
    {
     "text": "Octave Kernel",
     "url": "https://github.com/Calysto/octave_kernel"
    },
    {
     "text": "MetaKernel Magics",
     "url": "https://github.com/calysto/metakernel/blob/master/metakernel/magics/README.md"
    }
   ],
   "mimetype": "text/x-octave",
   "name": "octave",
   "version": "4.2.2"
  }
 },
 "nbformat": 4,
 "nbformat_minor": 2
}
